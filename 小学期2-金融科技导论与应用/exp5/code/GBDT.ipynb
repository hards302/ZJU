{
 "cells": [
  {
   "cell_type": "code",
   "execution_count": 1,
   "metadata": {},
   "outputs": [],
   "source": [
    "import pandas as pd\n",
    "import numpy as np\n",
    "import math\n",
    "from sklearn.model_selection import train_test_split\n",
    "from sklearn.preprocessing import StandardScaler\n",
    "from sklearn.ensemble import GradientBoostingClassifier\n",
    "from sklearn.metrics import roc_auc_score\n",
    "from AucModule import calcAUC"
   ]
  },
  {
   "cell_type": "code",
   "execution_count": 2,
   "metadata": {},
   "outputs": [],
   "source": [
    "data = pd.read_csv('data/train_new.csv')"
   ]
  },
  {
   "cell_type": "code",
   "execution_count": 3,
   "metadata": {},
   "outputs": [],
   "source": [
    "data.dropna(thresh = 60, inplace = True)"
   ]
  },
  {
   "cell_type": "code",
   "execution_count": 4,
   "metadata": {},
   "outputs": [],
   "source": [
    "data.dropna(subset=['Y'], inplace = True)"
   ]
  },
  {
   "cell_type": "code",
   "execution_count": 5,
   "metadata": {},
   "outputs": [],
   "source": [
    "# fillna with means\n",
    "for i in range(1, 73):\n",
    "    data_col = data['X%s'%i].fillna(data['X%s'%i].mean())\n",
    "    data['X%s'%i] = data_col"
   ]
  },
  {
   "cell_type": "code",
   "execution_count": 6,
   "metadata": {},
   "outputs": [],
   "source": [
    "# woe\n",
    "woe = {}\n",
    "woel = []\n",
    "good_t = sum(data['Y']==1)\n",
    "bad_t = sum(data['Y']==0)\n",
    "for i, v in data.X13.items():\n",
    "    good = 0\n",
    "    bad = 0\n",
    "    if woe.get(v) != None:\n",
    "        woel.append(woe[v])\n",
    "    else:\n",
    "        for j, vj in data.X13.items():\n",
    "            if vj == v:\n",
    "                if data.Y[j] == 1:\n",
    "                    good += 1\n",
    "                else:\n",
    "                    bad += 1\n",
    "        woel.append(math.log((good/good_t+0.1)/(bad/bad_t+0.1)))\n",
    "        woe[v] = math.log((good/good_t+0.1)/(bad/bad_t+0.1))\n",
    "data[\"woel\"] = woel"
   ]
  },
  {
   "cell_type": "code",
   "execution_count": 7,
   "metadata": {},
   "outputs": [],
   "source": [
    "# cross feature\n",
    "def add_cross_feature(data,feature1,feature2):\n",
    "    comb_index = data[[feature1,feature2]].drop_duplicates()\n",
    "    comb_index[feature1+'_'+feature2]=data[feature1]+data[feature2]\n",
    "    data = pd.merge(data, comb_index, 'left', on=[feature1,feature2])\n",
    "    return data"
   ]
  },
  {
   "cell_type": "code",
   "execution_count": 8,
   "metadata": {},
   "outputs": [],
   "source": [
    "data = add_cross_feature(data,'X23','X34')\n",
    "data = add_cross_feature(data,'X36','X37')"
   ]
  },
  {
   "cell_type": "code",
   "execution_count": 9,
   "metadata": {},
   "outputs": [],
   "source": [
    "# split test data and train data\n",
    "x = pd.concat([data.iloc[:, :72],data.iloc[:, [74]]], axis = 1)\n",
    "# x = data.iloc[:, :72]\n",
    "y = data.iloc[:, [72]]           # here is an error (73->72)\n",
    "x_train, x_test, y_train, y_test = train_test_split(x, y, test_size = 0.2)"
   ]
  },
  {
   "cell_type": "code",
   "execution_count": 10,
   "metadata": {},
   "outputs": [],
   "source": [
    "# standard\n",
    "x_train_arr = np.array(x_train)\n",
    "x_test_arr = np.array(x_test)\n",
    "s1 = StandardScaler()\n",
    "s2 = StandardScaler()\n",
    "s1.fit(x_train_arr)\n",
    "x_train_stand = s1.transform(x_train_arr)\n",
    "s2.fit(x_test_arr)\n",
    "x_test_stand = s2.transform(x_test_arr)"
   ]
  },
  {
   "cell_type": "code",
   "execution_count": 11,
   "metadata": {},
   "outputs": [],
   "source": [
    "clf = GradientBoostingClassifier(n_estimators=100, learning_rate=1.0,max_depth=1, random_state=0).fit(x_train, y_train.values.ravel())\n",
    "prey = clf.predict(x_test)"
   ]
  },
  {
   "cell_type": "code",
   "execution_count": 15,
   "metadata": {},
   "outputs": [
    {
     "name": "stdout",
     "output_type": "stream",
     "text": [
      "auc_score: 0.6344319579100536\n"
     ]
    }
   ],
   "source": [
    "print(\"auc_score: %s\" % calcAUC(y_test.Y,prey))"
   ]
  },
  {
   "cell_type": "code",
   "execution_count": 13,
   "metadata": {},
   "outputs": [],
   "source": [
    "name = [\"id\", \"predict\"]\n",
    "list = []\n",
    "for i in range(prey.shape[0]):\n",
    "    list.append([x_test.index[i], prey[i]])\n",
    "pred = pd.DataFrame(columns=name, data=list)"
   ]
  },
  {
   "cell_type": "code",
   "execution_count": 14,
   "metadata": {},
   "outputs": [],
   "source": [
    "pred.to_csv(\"./result/GBDT\")"
   ]
  },
  {
   "cell_type": "code",
   "execution_count": null,
   "metadata": {},
   "outputs": [],
   "source": []
  }
 ],
 "metadata": {
  "kernelspec": {
   "display_name": "Python 3",
   "language": "python",
   "name": "python3"
  },
  "language_info": {
   "codemirror_mode": {
    "name": "ipython",
    "version": 3
   },
   "file_extension": ".py",
   "mimetype": "text/x-python",
   "name": "python",
   "nbconvert_exporter": "python",
   "pygments_lexer": "ipython3",
   "version": "3.7.10"
  }
 },
 "nbformat": 4,
 "nbformat_minor": 4
}
