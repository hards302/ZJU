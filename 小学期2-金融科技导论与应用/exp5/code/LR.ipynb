{
 "cells": [
  {
   "cell_type": "code",
   "execution_count": 14,
   "metadata": {},
   "outputs": [],
   "source": [
    "import pandas as pd\n",
    "import numpy as np\n",
    "import math\n",
    "import time\n",
    "from sklearn.model_selection import train_test_split\n",
    "from sklearn.preprocessing import StandardScaler\n",
    "from sklearn.linear_model import LogisticRegression\n",
    "from sklearn.metrics import classification_report\n",
    "from sklearn.metrics import roc_auc_score\n",
    "from AucModule import calcAUC"
   ]
  },
  {
   "cell_type": "code",
   "execution_count": 15,
   "metadata": {},
   "outputs": [],
   "source": [
    "data = pd.read_csv('data/train_new.csv')"
   ]
  },
  {
   "cell_type": "code",
   "execution_count": 16,
   "metadata": {},
   "outputs": [],
   "source": [
    "data.dropna(thresh = 60, inplace = True)"
   ]
  },
  {
   "cell_type": "code",
   "execution_count": 17,
   "metadata": {},
   "outputs": [],
   "source": [
    "data.dropna(subset=['Y'], inplace = True)"
   ]
  },
  {
   "cell_type": "code",
   "execution_count": 18,
   "metadata": {},
   "outputs": [],
   "source": [
    "# fillna with means\n",
    "for i in range(1, 73):\n",
    "    data_col = data['X%s'%i].fillna(data['X%s'%i].mean())\n",
    "    data['X%s'%i] = data_col"
   ]
  },
  {
   "cell_type": "code",
   "execution_count": 19,
   "metadata": {},
   "outputs": [],
   "source": [
    "woe = {}\n",
    "woel = []\n",
    "good_t = sum(data['Y']==1)\n",
    "bad_t = sum(data['Y']==0)"
   ]
  },
  {
   "cell_type": "code",
   "execution_count": 20,
   "metadata": {},
   "outputs": [],
   "source": [
    "for i, v in data.X13.items():\n",
    "    good = 0\n",
    "    bad = 0\n",
    "    if woe.get(v) != None:\n",
    "        woel.append(woe[v])\n",
    "    else:\n",
    "        for j, vj in data.X13.items():\n",
    "            if vj == v:\n",
    "                if data.Y[j] == 1:\n",
    "                    good += 1\n",
    "                else:\n",
    "                    bad += 1\n",
    "        woel.append(math.log((good/good_t+0.1)/(bad/bad_t+0.1)))\n",
    "        woe[v] = math.log((good/good_t+0.1)/(bad/bad_t+0.1))"
   ]
  },
  {
   "cell_type": "code",
   "execution_count": 21,
   "metadata": {},
   "outputs": [],
   "source": [
    "data[\"woel\"] = woel"
   ]
  },
  {
   "cell_type": "code",
   "execution_count": 22,
   "metadata": {},
   "outputs": [],
   "source": [
    "def add_cross_feature(data,feature1,feature2):\n",
    "    comb_index = data[[feature1,feature2]].drop_duplicates()\n",
    "    comb_index[feature1+'_'+feature2]=data[feature1]+data[feature2]\n",
    "    data = pd.merge(data, comb_index, 'left', on=[feature1,feature2])\n",
    "    return data"
   ]
  },
  {
   "cell_type": "code",
   "execution_count": 23,
   "metadata": {},
   "outputs": [],
   "source": [
    "data = add_cross_feature(data,'X23','X34')\n",
    "data = add_cross_feature(data,'X36','X37')"
   ]
  },
  {
   "cell_type": "code",
   "execution_count": 24,
   "metadata": {},
   "outputs": [],
   "source": [
    "# split test data and train data\n",
    "x = pd.concat([data.iloc[:, :72],data.iloc[:, [74]]], axis = 1)\n",
    "y = data.iloc[:, [72]]           # here is an error (73->72)\n",
    "x_train, x_test, y_train, y_test = train_test_split(x, y, test_size = 0.2)"
   ]
  },
  {
   "cell_type": "code",
   "execution_count": 25,
   "metadata": {},
   "outputs": [],
   "source": [
    "# z-score standard\n",
    "x_train_arr = np.array(x_train)\n",
    "x_test_arr = np.array(x_test)\n",
    "s1 = StandardScaler()\n",
    "s2 = StandardScaler()\n",
    "s1.fit(x_train_arr)\n",
    "x_train_stand = s1.transform(x_train_arr)\n",
    "s2.fit(x_test_arr)\n",
    "x_test_stand = s2.transform(x_test_arr)"
   ]
  },
  {
   "cell_type": "code",
   "execution_count": 26,
   "metadata": {},
   "outputs": [
    {
     "name": "stdout",
     "output_type": "stream",
     "text": [
      "time: 0.5023133754730225\n"
     ]
    },
    {
     "name": "stderr",
     "output_type": "stream",
     "text": [
      "E:\\anaconda3\\lib\\site-packages\\sklearn\\linear_model\\_logistic.py:940: ConvergenceWarning: lbfgs failed to converge (status=1):\n",
      "STOP: TOTAL NO. of ITERATIONS REACHED LIMIT.\n",
      "\n",
      "Increase the number of iterations (max_iter) or scale the data as shown in:\n",
      "    https://scikit-learn.org/stable/modules/preprocessing.html\n",
      "Please also refer to the documentation for alternative solver options:\n",
      "    https://scikit-learn.org/stable/modules/linear_model.html#logistic-regression\n",
      "  extra_warning_msg=_LOGISTIC_SOLVER_CONVERGENCE_MSG)\n"
     ]
    }
   ],
   "source": [
    "start_time = time.time()\n",
    "clf = LogisticRegression(random_state=0).fit(x_train_stand, y_train.values.ravel())\n",
    "end_time = time.time()\n",
    "prey = clf.predict(x_test_stand)\n",
    "print(\"time: %s\" % (end_time-start_time))"
   ]
  },
  {
   "cell_type": "code",
   "execution_count": 41,
   "metadata": {},
   "outputs": [
    {
     "name": "stdout",
     "output_type": "stream",
     "text": [
      "auc_score: 0.6148069111308395\n"
     ]
    }
   ],
   "source": [
    "print(\"auc_score: %s\" % calcAUC(y_test.Y,prey))"
   ]
  },
  {
   "cell_type": "code",
   "execution_count": 123,
   "metadata": {},
   "outputs": [],
   "source": [
    "name = [\"id\", \"predict\"]\n",
    "list = []\n",
    "for i in range(prey.shape[0]):\n",
    "    list.append([x_test.index[i], prey[i]])\n",
    "pred = pd.DataFrame(columns=name, data=list)"
   ]
  },
  {
   "cell_type": "code",
   "execution_count": 126,
   "metadata": {},
   "outputs": [],
   "source": [
    "pred.to_csv(\"./result/LR\")"
   ]
  },
  {
   "cell_type": "code",
   "execution_count": null,
   "metadata": {},
   "outputs": [],
   "source": []
  }
 ],
 "metadata": {
  "kernelspec": {
   "display_name": "Python 3",
   "language": "python",
   "name": "python3"
  },
  "language_info": {
   "codemirror_mode": {
    "name": "ipython",
    "version": 3
   },
   "file_extension": ".py",
   "mimetype": "text/x-python",
   "name": "python",
   "nbconvert_exporter": "python",
   "pygments_lexer": "ipython3",
   "version": "3.7.10"
  }
 },
 "nbformat": 4,
 "nbformat_minor": 4
}
